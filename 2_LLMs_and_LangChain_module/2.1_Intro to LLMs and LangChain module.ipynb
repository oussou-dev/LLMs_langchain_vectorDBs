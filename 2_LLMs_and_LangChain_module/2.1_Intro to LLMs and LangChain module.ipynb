{
 "cells": [
  {
   "cell_type": "markdown",
   "metadata": {},
   "source": [
    "# **Intro to LLMs and LangChain module**\n"
   ]
  },
  {
   "cell_type": "markdown",
   "metadata": {},
   "source": [
    "Having gained a solid understanding of the basic concepts of the LangChain library from the first module, it is now time to explore each component in greater detail through the upcoming modules.   \n",
    "We start by introducing the most important part of the pipeline - the underlying models!   \n",
    "This module will introduce the capabilities of different types of large language models and chat models in detail.   \n",
    "It is followed by walking through a hands-on project to summarize news articles.   \n",
    "It is worth noting that as we progress through subsequent modules and gain a deeper understanding of additional features, we will refine and enhance the mentioned project and embark on new projects.  \n",
    "\n",
    "Below is the module outline, along with a brief description of the content covered in each lesson."
   ]
  },
  {
   "cell_type": "markdown",
   "metadata": {},
   "source": [
    "- **Quick Intro to Large Language Models**: Introducing models like GPT-3, GPT-4, and ChatGPT while discussing their abilities in few-shot learning and demonstrating practical examples of text summarization and translation. We'll also address potential challenges such as hallucinations, biases, and the context size of LLMs.  \n",
    "\n",
    "- **Building Applications Powered by LLMs with LangChain**: LangChain solves key challenges in building applications powered by Large Language Models (LLMs) and makes them more accessible. The lesson will start by covering the use of prompts in chat applications. We will also showcase examples of prompts from LangChain, such as those used in summarization or question-answering chains, highlighting the ease of prompt reuse and customization.  \n",
    "\n",
    "- **Exploring the World of Language Models**: Fundamental distinctions exist between language models and chat models. Notably, chat models are trained to engage in conversations by considering previous messages. In contrast, language models respond to a prompt and rely solely on the information provided within it to answer a query. You will acquire the skills to define various types of prompts for simple applications using each available variation.\n",
    "\n",
    "- **Exploring Conversational Capabilities with GPT-4 and ChatGPT**: The ChatGPT application provides several benefits that enable it to hold meaningful conversations. During the lesson, you will learn how to pass previous messages to the model and observe how the model effectively utilizes and references these messages when required.\n",
    "\n",
    "- **Build a News Articles Summarizer**: This lesson is the first hands-on project of the course. We will set up the environment by installing the required libraries and loading access tokens. Next, we will download the contents of a news article and provide them as input to a ChatGPT instance equipped with the GPT-4 model, which will handle the summarization process efficiently. The lesson further explores different prompts to get desired styles. (e.g. a bullet-point list)\n",
    "\n",
    "- **Using the Open-Source GPT4All Model Locally**: While proprietary models like the GPT family are powerful choices, it is essential to note that there are limitations and restrictions when utilizing them. We will present an open-source model called GPT4ALL, which can be executed locally on your own system. In this lesson, we will delve into the inner workings of this model and demonstrate its seamless integration with the LangChain library, facilitating its user-friendly implementation.\n",
    "\n",
    "- **What other models can we use? Popular LLM models compared**: The integration of LangChain with numerous models and services opens up exciting new possibilities. In particular, combining various models and services is effortless, leveraging their respective strengths and addressing their limitations. You will see a comprehensive list of different models and their respective advantages and disadvantages. Please note that each model has its license, which may not necessarily cover specific situations. (e.g. commercial use)"
   ]
  },
  {
   "cell_type": "markdown",
   "metadata": {},
   "source": [
    "This module aims to provide you with a comprehensive understanding of the various models the LangChain library offers. We will explore multiple use cases and determine the optimal approach for each scenario, shedding light on the most suitable strategies. In particular, we will examine the fundamental distinctions between prompting the Large Language Models (LLMs) and their Chat model counterparts. Finally, introducing open-source models empowers individuals to run the models locally, eliminating associated costs and enabling further development on top of them."
   ]
  },
  {
   "cell_type": "code",
   "execution_count": null,
   "metadata": {},
   "outputs": [],
   "source": []
  },
  {
   "cell_type": "markdown",
   "metadata": {},
   "source": []
  }
 ],
 "metadata": {
  "language_info": {
   "name": "python"
  }
 },
 "nbformat": 4,
 "nbformat_minor": 2
}
